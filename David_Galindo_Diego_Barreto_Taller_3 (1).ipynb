{
 "cells": [
  {
   "cell_type": "markdown",
   "id": "26cf816d",
   "metadata": {},
   "source": [
    "David Andres Galindo Cruz - Diego Esteban Barreto Roa\n",
    "Taller 2\n",
    "\n",
    "El archivo karate.gml contiene la red de amistades entre los 34 miembros de un club de kárate en una universidad de EE. UU.\n",
    "\n",
    "W. W. Zachary, An modelo de flujo de información para conflicto y fisión en pequeños grupos, Journal of Investigación Antropológica 33, 452-473 (1977)."
   ]
  },
  {
   "cell_type": "code",
   "execution_count": 8,
   "id": "73f9748c",
   "metadata": {},
   "outputs": [
    {
     "name": "stdout",
     "output_type": "stream",
     "text": [
      "Requirement already satisfied: pyvis in c:\\programdata\\anaconda3\\lib\\site-packages (0.2.1)\n",
      "Requirement already satisfied: jsonpickle>=1.4.1 in c:\\programdata\\anaconda3\\lib\\site-packages (from pyvis) (2.1.0)\n",
      "Requirement already satisfied: ipython>=5.3.0 in c:\\programdata\\anaconda3\\lib\\site-packages (from pyvis) (7.29.0)\n",
      "Requirement already satisfied: networkx>=1.11 in c:\\programdata\\anaconda3\\lib\\site-packages (from pyvis) (2.6.3)\n",
      "Requirement already satisfied: jinja2>=2.9.6 in c:\\programdata\\anaconda3\\lib\\site-packages (from pyvis) (2.11.3)\n",
      "Requirement already satisfied: colorama in c:\\programdata\\anaconda3\\lib\\site-packages (from ipython>=5.3.0->pyvis) (0.4.4)\n",
      "Requirement already satisfied: setuptools>=18.5 in c:\\programdata\\anaconda3\\lib\\site-packages (from ipython>=5.3.0->pyvis) (58.0.4)\n",
      "Requirement already satisfied: prompt-toolkit!=3.0.0,!=3.0.1,<3.1.0,>=2.0.0 in c:\\programdata\\anaconda3\\lib\\site-packages (from ipython>=5.3.0->pyvis) (3.0.20)\n",
      "Requirement already satisfied: traitlets>=4.2 in c:\\programdata\\anaconda3\\lib\\site-packages (from ipython>=5.3.0->pyvis) (5.1.0)\n",
      "Requirement already satisfied: jedi>=0.16 in c:\\programdata\\anaconda3\\lib\\site-packages (from ipython>=5.3.0->pyvis) (0.18.0)\n",
      "Requirement already satisfied: backcall in c:\\programdata\\anaconda3\\lib\\site-packages (from ipython>=5.3.0->pyvis) (0.2.0)\n",
      "Requirement already satisfied: decorator in c:\\programdata\\anaconda3\\lib\\site-packages (from ipython>=5.3.0->pyvis) (5.1.0)\n",
      "Requirement already satisfied: matplotlib-inline in c:\\programdata\\anaconda3\\lib\\site-packages (from ipython>=5.3.0->pyvis) (0.1.2)\n",
      "Requirement already satisfied: pickleshare in c:\\programdata\\anaconda3\\lib\\site-packages (from ipython>=5.3.0->pyvis) (0.7.5)\n",
      "Requirement already satisfied: pygments in c:\\programdata\\anaconda3\\lib\\site-packages (from ipython>=5.3.0->pyvis) (2.10.0)\n",
      "Requirement already satisfied: parso<0.9.0,>=0.8.0 in c:\\programdata\\anaconda3\\lib\\site-packages (from jedi>=0.16->ipython>=5.3.0->pyvis) (0.8.2)\n",
      "Requirement already satisfied: MarkupSafe>=0.23 in c:\\programdata\\anaconda3\\lib\\site-packages (from jinja2>=2.9.6->pyvis) (1.1.1)\n",
      "Requirement already satisfied: wcwidth in c:\\programdata\\anaconda3\\lib\\site-packages (from prompt-toolkit!=3.0.0,!=3.0.1,<3.1.0,>=2.0.0->ipython>=5.3.0->pyvis) (0.2.5)\n",
      "Requirement already satisfied: plotly in c:\\programdata\\anaconda3\\lib\\site-packages (5.7.0)\n",
      "Requirement already satisfied: six in c:\\programdata\\anaconda3\\lib\\site-packages (from plotly) (1.16.0)\n",
      "Requirement already satisfied: tenacity>=6.2.0 in c:\\programdata\\anaconda3\\lib\\site-packages (from plotly) (8.0.1)\n"
     ]
    }
   ],
   "source": [
    "#!pip install networkx\n",
    "#!pip install pyvis\n",
    "#!pip install plotly"
   ]
  },
  {
   "cell_type": "code",
   "execution_count": 2,
   "id": "3fd2439c",
   "metadata": {},
   "outputs": [],
   "source": [
    "import pandas as pd\n",
    "import numpy as np\n",
    "import seaborn as sns\n",
    "import networkx as nx\n",
    "from pyvis.network import Network\n",
    "import matplotlib.pyplot as plt"
   ]
  },
  {
   "cell_type": "code",
   "execution_count": 4,
   "id": "ee685378",
   "metadata": {},
   "outputs": [
    {
     "name": "stdout",
     "output_type": "stream",
     "text": [
      "Número de nodos: 34\n",
      "Número de enlaces: 78\n"
     ]
    }
   ],
   "source": [
    "data = nx.read_gml('karate.gml', label = 'id')\n",
    "print(\"Número de nodos:\", data.number_of_nodes())\n",
    "print(\"Número de enlaces:\", data.number_of_edges())"
   ]
  },
  {
   "cell_type": "code",
   "execution_count": 5,
   "id": "dabb7d4e",
   "metadata": {},
   "outputs": [
    {
     "data": {
      "text/plain": [
       "NodeView((1, 2, 3, 4, 5, 6, 7, 8, 9, 10, 11, 12, 13, 14, 15, 16, 17, 18, 19, 20, 21, 22, 23, 24, 25, 26, 27, 28, 29, 30, 31, 32, 33, 34))"
      ]
     },
     "execution_count": 5,
     "metadata": {},
     "output_type": "execute_result"
    }
   ],
   "source": [
    "data.nodes"
   ]
  },
  {
   "cell_type": "code",
   "execution_count": 6,
   "id": "adf4e859",
   "metadata": {},
   "outputs": [
    {
     "data": {
      "text/plain": [
       "EdgeView([(1, 2), (1, 3), (1, 4), (1, 5), (1, 6), (1, 7), (1, 8), (1, 9), (1, 11), (1, 12), (1, 13), (1, 14), (1, 18), (1, 20), (1, 22), (1, 32), (2, 3), (2, 4), (2, 8), (2, 14), (2, 18), (2, 20), (2, 22), (2, 31), (3, 4), (3, 8), (3, 9), (3, 10), (3, 14), (3, 28), (3, 29), (3, 33), (4, 8), (4, 13), (4, 14), (5, 7), (5, 11), (6, 7), (6, 11), (6, 17), (7, 17), (9, 31), (9, 33), (9, 34), (10, 34), (14, 34), (15, 33), (15, 34), (16, 33), (16, 34), (19, 33), (19, 34), (20, 34), (21, 33), (21, 34), (23, 33), (23, 34), (24, 26), (24, 28), (24, 30), (24, 33), (24, 34), (25, 26), (25, 28), (25, 32), (26, 32), (27, 30), (27, 34), (28, 34), (29, 32), (29, 34), (30, 33), (30, 34), (31, 33), (31, 34), (32, 33), (32, 34), (33, 34)])"
      ]
     },
     "execution_count": 6,
     "metadata": {},
     "output_type": "execute_result"
    }
   ],
   "source": [
    "data.edges"
   ]
  },
  {
   "cell_type": "code",
   "execution_count": 7,
   "id": "ba15b8ab",
   "metadata": {},
   "outputs": [
    {
     "data": {
      "text/html": [
       "\n",
       "        <iframe\n",
       "            width=\"1000px\"\n",
       "            height=\"1000px\"\n",
       "            src=\"nx.html\"\n",
       "            frameborder=\"0\"\n",
       "            allowfullscreen\n",
       "            \n",
       "        ></iframe>\n",
       "        "
      ],
      "text/plain": [
       "<IPython.lib.display.IFrame at 0x1ca23cc60d0>"
      ]
     },
     "execution_count": 7,
     "metadata": {},
     "output_type": "execute_result"
    }
   ],
   "source": [
    "df = pd.DataFrame({ 'from':['1','1','1','1','1','1','1','1','1','1','1','1','1','1','1','1','2','2','2','2','2','2','2',\n",
    "                            '2','3','3','3','3','3','3','3','3','4','4','4','5','5','6','6','6','7','9','9','9',\n",
    "                             '10','14','15','15','16','16','19','19','20','21','21','23','23','24','24','24','24','24',\n",
    "                            '25','25','25','26','27','27','28','29','29','30','30',\n",
    "                             '31','31','32','32','33'], 'to': ['2','3','4','5','6','7','8','9','11','12','13','14','18',\n",
    "                                                               '20','22','32','3','4','8','14','18','20','22','31','4','8','9',\n",
    "                                                     '10','14','28','29','33','8','13','14','7','11','7','11','17','17','31',\n",
    "                                                               '33','34','34','34','33','34','33','34','33',\n",
    "                                                     '34','34','33','34','33','34','26','28','30','33','34','26','28','32',\n",
    "                                                               '32','30','34','34','32','34','33','34','33','34','33','34','34']  })\n",
    "G=nx.from_pandas_edgelist(df, 'from', 'to', create_using=nx.DiGraph() )\n",
    "\n",
    "nt = Network('1000px', '1000px', notebook = True)\n",
    "nt.from_nx(G)\n",
    "nt.show('nx.html')"
   ]
  },
  {
   "cell_type": "markdown",
   "id": "6aa53234",
   "metadata": {},
   "source": [
    " ¿Qué?\n",
    "\n",
    "Nuestro data tiene 32 nodos que representas a los miembros de un club de karate y 72 enlaces entre si, estos enlaces representan relaciones entre ellos a lo largo del tiempo de estudio, en un network donde los datos son representados por nodos y enlaces que representas a cada xxxxx\n",
    "\n",
    "¿Por qué?\n",
    "Representar gráficamente las relaciones entre los integrantes del club de karate y observar las interacciones que tienen entre sí.\n",
    "\n",
    "¿Cómo?\n",
    "Es una visualización de red dirigida e interactiva con relaciones no simétricas. la interacción nos permite buscar nodos específicos y sus distancias más a detalle.\n",
    "\n",
    "Marcas y canales\n",
    "Se utilizan marcas de puntos para representar a los nodos y líneas para los enlaces que tienen entre sí. También se utiliza posición espacial para el gráfico en visión general.\n",
    "\n",
    "¿Cumple las reglas generales?\n",
    "Se justifica el uso del 2D para res presentar los enlaces entre los miembros del club de karate en comparación a una tabla o lista común.\n",
    "No aplica la regla del 3D injustificado. \n",
    "No depende de la memoria.\n",
    "No requiere de capacidad de respuesta.\n",
    "\n",
    "Mejoras posibles para la visualización\n",
    "Utilizar datos adicionales para utilizar otras canales de color u otras marcas y diferenciar más intuitivamente las relaciones."
   ]
  }
 ],
 "metadata": {
  "kernelspec": {
   "display_name": "Python 3 (ipykernel)",
   "language": "python",
   "name": "python3"
  },
  "language_info": {
   "codemirror_mode": {
    "name": "ipython",
    "version": 3
   },
   "file_extension": ".py",
   "mimetype": "text/x-python",
   "name": "python",
   "nbconvert_exporter": "python",
   "pygments_lexer": "ipython3",
   "version": "3.9.7"
  }
 },
 "nbformat": 4,
 "nbformat_minor": 5
}
